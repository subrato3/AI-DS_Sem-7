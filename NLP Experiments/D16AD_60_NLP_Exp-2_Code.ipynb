{
 "cells": [
  {
   "cell_type": "code",
   "execution_count": 1,
   "id": "3bdbf052",
   "metadata": {},
   "outputs": [
    {
     "name": "stdout",
     "output_type": "stream",
     "text": [
      "Enter a sentence: Hello.  कैसे हो?\n",
      "Input Sentence: Hello.  कैसे हो?\n",
      "Filtered Sentence: Hello.   ?\n"
     ]
    }
   ],
   "source": [
    "import re\n",
    "\n",
    "def filter_regional_language(text, language_pattern):\n",
    "    filtered_text = re.sub(language_pattern, '', text)\n",
    "    return filtered_text\n",
    "\n",
    "hindi_pattern = re.compile(r'[\\u0900-\\u097F]+')\n",
    "input_sentence = input(\"Enter a sentence: \")\n",
    "print(\"Input Sentence:\", input_sentence)\n",
    "filtered_sentence = filter_regional_language(input_sentence, hindi_pattern)\n",
    "print(\"Filtered Sentence:\", filtered_sentence)"
   ]
  },
  {
   "cell_type": "code",
   "execution_count": 2,
   "id": "439547a6",
   "metadata": {},
   "outputs": [
    {
     "name": "stdout",
     "output_type": "stream",
     "text": [
      "Enter a sentence: This is the first experiment of NLP. It is a subject for AI/DS department students in sem 7. There are some other subjects such as DL, BDA and a few more. This above cell executes stop word filtration.\n",
      "Filtered Sentence:   the first experiment of NLP.   a subject for AI/DS department students  sem 7.     subjects  as DL, BDA and a  .   cell executes stop word filtration.\n"
     ]
    }
   ],
   "source": [
    "#Stop word Filtraton\n",
    "\n",
    "import re\n",
    "\n",
    "def filter_stop_words(sentence) :\n",
    "    stop_words = set([\n",
    "        \"i\", \"me\", \"my\", \"myself\", \"we\", \"our\", \"ours\",\"you\", \"your\",\n",
    "        \"yours\", \"he\", \"him\", \"his\", \"himself\", \"she\", \"her\", \"hers\", \"it\",\n",
    "        \"its\", \"itself\", \"they\", \"them\", \"their\", \"theirs\", \"what\",\n",
    "        \"which\", \"who\", \"whom\", \"this\", \"that\", \"these\", \"those\", \"am\",\n",
    "        \"is\", \"are\", \"was\", \"were\", \"be\", \"been\", \"being\", \"have\", \"has\",\n",
    "        \"had\", \"having\", \"do\",\"through\", \"during\", \"before\", \"after\", \"above\",\n",
    "        \"below\", \"to\", \"from\", \"up\", \"down\", \"in\", \"out\", \"on\", \"off\", \"over\", \"under\",\n",
    "        \"again\", \"further\", \"then\", \"once\", \"here\", \"there\", \"when\", \"where\",\n",
    "        \"why\", \"how\", \"all\", \"any\", \"both\", \"each\", \"few\", \"more\", \"most\",\n",
    "        \"other\", \"some\", \"such\", \"no\", \"nor\", \"not\", \"only\", \"own\", \"same\",\n",
    "        \"so\", \"than\", \"too\", \"very\", \"s\", \"t\", \"can\", \"will\", \"just\", \"don\",\n",
    "        \"should\", \"now\"\n",
    "    ])\n",
    "\n",
    "    word_pattern = re.compile(r'\\b\\w+\\b')\n",
    "    filtered_sentence = word_pattern.sub(lambda match: match.group() if match.group().lower() not in stop_words else '', sentence)\n",
    "    return filtered_sentence\n",
    "\n",
    "input_sentence = input(\"Enter a sentence: \")\n",
    "filtered_sentence = filter_stop_words(input_sentence)\n",
    "print(\"Filtered Sentence:\", filtered_sentence)"
   ]
  },
  {
   "cell_type": "code",
   "execution_count": 3,
   "id": "8b7f9b9c",
   "metadata": {},
   "outputs": [
    {
     "name": "stdout",
     "output_type": "stream",
     "text": [
      "Enter a sentence: Hello! Welcome world, how are you? Have a good day.\n",
      "Filtered Sentence: Hello Welcome world how are you Have a good day\n"
     ]
    }
   ],
   "source": [
    "# Punctuation FIltration\n",
    "\n",
    "import re\n",
    "\n",
    "def filter_punctuation(sentence) :\n",
    "    filtered_sentence = re.sub(r'[^\\w\\s]', '', sentence)\n",
    "    return filtered_sentence\n",
    "\n",
    "input_sentence = input(\"Enter a sentence: \")\n",
    "filtered_sentence = filter_punctuation(input_sentence)\n",
    "print(\"Filtered Sentence:\", filtered_sentence)"
   ]
  },
  {
   "cell_type": "code",
   "execution_count": 4,
   "id": "d2599c34",
   "metadata": {},
   "outputs": [
    {
     "name": "stdout",
     "output_type": "stream",
     "text": [
      "Enter an email address: subrato.3.gmail.com\n",
      "Email is not valid.\n"
     ]
    }
   ],
   "source": [
    "#Email verification\n",
    "\n",
    "import re\n",
    "\n",
    "def is_valid_email(email) :\n",
    "    pattern = r'^[a-zA-Z0-9._%+-]+@[a-zA-Z0-9.-]+\\.[a-zA-Z]{2,}$'\n",
    "    return re.match(pattern, email)\n",
    "\n",
    "input_email = input(\"Enter an email address: \")\n",
    "\n",
    "if is_valid_email(input_email) :\n",
    "   print(\"Email is valid.\")\n",
    "else :\n",
    "   print(\"Email is not valid.\")"
   ]
  },
  {
   "cell_type": "code",
   "execution_count": 5,
   "id": "e326c24b",
   "metadata": {},
   "outputs": [
    {
     "name": "stdout",
     "output_type": "stream",
     "text": [
      "Enter a phone number : 145879632a\n",
      "Phone number is not valid.\n"
     ]
    }
   ],
   "source": [
    "# Phone no validation\n",
    "\n",
    "import re\n",
    "\n",
    "def is_valid_phone_number(phone_number) :\n",
    "    # Regular expression for basic phone number format validation\n",
    "    pattern = r'^[2-9]\\d{2}-\\d{3}-\\d{4}$'\n",
    "    return re.match(pattern, phone_number)\n",
    "\n",
    "input_phone_number = input(\"Enter a phone number : \")\n",
    "\n",
    "if is_valid_phone_number(input_phone_number) :\n",
    "  print(\"Phone number is valid.\")\n",
    "else :\n",
    "  print(\"Phone number is not valid.\")"
   ]
  },
  {
   "cell_type": "code",
   "execution_count": 6,
   "id": "19f4aa74",
   "metadata": {},
   "outputs": [
    {
     "name": "stdout",
     "output_type": "stream",
     "text": [
      "Enter a name : Subrato\n",
      "Name is valid.\n"
     ]
    }
   ],
   "source": [
    "# Name validation\n",
    "\n",
    "import re\n",
    "\n",
    "def is_valid_name(name) :\n",
    "    # Regular expression for name validation (letters and spaces only)\n",
    "    pattern = r'^[a-zA-Z\\s]+$'\n",
    "    return re.match(pattern, name)\n",
    "\n",
    "input_name = input(\"Enter a name : \")\n",
    "\n",
    "if is_valid_name(input_name) :\n",
    "    print(\"Name is valid.\")\n",
    "else :\n",
    "    print(\"Name is not valid.\")"
   ]
  },
  {
   "cell_type": "code",
   "execution_count": 7,
   "id": "efd872f4",
   "metadata": {},
   "outputs": [
    {
     "name": "stdout",
     "output_type": "stream",
     "text": [
      "Enter a sentence : hello how are you\n"
     ]
    }
   ],
   "source": [
    "input = input(\"Enter a sentence : \")"
   ]
  },
  {
   "cell_type": "code",
   "execution_count": 8,
   "id": "8c02952b",
   "metadata": {},
   "outputs": [
    {
     "name": "stdout",
     "output_type": "stream",
     "text": [
      "['hello', 'how', 'are', 'you']\n"
     ]
    }
   ],
   "source": [
    "# Tokenization\n",
    "\n",
    "list = []\n",
    "for item in input.split(\" \") :\n",
    "  list.append(item)\n",
    "print(list)"
   ]
  }
 ],
 "metadata": {
  "kernelspec": {
   "display_name": "Python 3 (ipykernel)",
   "language": "python",
   "name": "python3"
  },
  "language_info": {
   "codemirror_mode": {
    "name": "ipython",
    "version": 3
   },
   "file_extension": ".py",
   "mimetype": "text/x-python",
   "name": "python",
   "nbconvert_exporter": "python",
   "pygments_lexer": "ipython3",
   "version": "3.9.13"
  }
 },
 "nbformat": 4,
 "nbformat_minor": 5
}
