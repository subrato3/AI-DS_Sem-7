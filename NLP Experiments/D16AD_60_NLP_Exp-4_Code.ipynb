{
 "cells": [
  {
   "cell_type": "code",
   "execution_count": 4,
   "id": "c7c6b9a1",
   "metadata": {},
   "outputs": [
    {
     "name": "stderr",
     "output_type": "stream",
     "text": [
      "[nltk_data] Downloading package punkt to\n",
      "[nltk_data]     C:\\Users\\pronn\\AppData\\Roaming\\nltk_data...\n",
      "[nltk_data]   Package punkt is already up-to-date!\n",
      "[nltk_data] Downloading package wordnet to\n",
      "[nltk_data]     C:\\Users\\pronn\\AppData\\Roaming\\nltk_data...\n",
      "[nltk_data]   Package wordnet is already up-to-date!\n",
      "[nltk_data] Downloading package omw-1.4 to\n",
      "[nltk_data]     C:\\Users\\pronn\\AppData\\Roaming\\nltk_data...\n"
     ]
    },
    {
     "data": {
      "text/plain": [
       "True"
      ]
     },
     "execution_count": 4,
     "metadata": {},
     "output_type": "execute_result"
    }
   ],
   "source": [
    "import nltk\n",
    "from nltk.tokenize import word_tokenize\n",
    "from nltk.stem import PorterStemmer\n",
    "from nltk.corpus import wordnet\n",
    "\n",
    "nltk.download('punkt')\n",
    "nltk.download('wordnet')\n",
    "nltk.download('omw-1.4')"
   ]
  },
  {
   "cell_type": "markdown",
   "id": "c3d620a6",
   "metadata": {},
   "source": [
    "### Morphological Analysis"
   ]
  },
  {
   "cell_type": "code",
   "execution_count": 5,
   "id": "4aa39115",
   "metadata": {},
   "outputs": [
    {
     "name": "stdout",
     "output_type": "stream",
     "text": [
      "Enter a sentence: Colorful skies looked pretty more importantly loved\n",
      "word            root            singular/plural tense           POS            \n",
      "---------------------------------------------------------------------------\n",
      "Colorful        color           plural          present         a              \n",
      "skies           sky             singular        present         v              \n",
      "looked          look            singular        present         v              \n",
      "pretty          pretti          plural          present         r              \n",
      "more            more            plural          present         r              \n",
      "importantly     importantli     plural          present         r              \n",
      "loved           love            singular        present         a              \n"
     ]
    }
   ],
   "source": [
    "def analyze_word(word) :\n",
    "    stemmer = PorterStemmer()\n",
    "    stem = stemmer.stem(word)\n",
    "\n",
    "    lemma = None\n",
    "    synsets = wordnet.synsets(word)\n",
    "    if synsets :\n",
    "        lemma = synsets[0].lemmas()[0].name()\n",
    "\n",
    "    plural = \"plural\" if lemma and stem != lemma else \"singular\"\n",
    "\n",
    "    tense = \"present\"\n",
    "    pos = None\n",
    "    for synset in synsets :\n",
    "        pos = synset.pos()\n",
    "        if \"past\" in synset.name() :\n",
    "            tense = \"past\"\n",
    "            break\n",
    "    return {\n",
    "        \"word\" : word,\n",
    "        \"root\" : stem,\n",
    "        \"singular/plural\" : plural,\n",
    "        \"tense\" : tense,\n",
    "        \"POS\" : pos\n",
    "    }\n",
    "\n",
    "input_text = input(\"Enter a sentence: \")\n",
    "tokens = word_tokenize(input_text)\n",
    "\n",
    "print(\"{:<15} {:<15} {:<15} {:<15} {:<15}\".format(\"word\", \"root\", \"singular/plural\", \"tense\", \"POS\"))\n",
    "print(\"-\"*75)\n",
    "\n",
    "for token in tokens :\n",
    "    analysis = analyze_word(token)\n",
    "    print(\"{:<15} {:<15} {:<15} {:<15} {:<15}\".format(\n",
    "        analysis[\"word\"],\n",
    "        analysis[\"root\"],\n",
    "        analysis[\"singular/plural\"],\n",
    "        analysis[\"tense\"],\n",
    "        analysis[\"POS\"]\n",
    "    ))"
   ]
  },
  {
   "cell_type": "markdown",
   "id": "0feffc2b",
   "metadata": {},
   "source": [
    "## Word Generation"
   ]
  },
  {
   "cell_type": "code",
   "execution_count": 6,
   "id": "48d96d39",
   "metadata": {},
   "outputs": [
    {
     "name": "stdout",
     "output_type": "stream",
     "text": [
      "Enter a sentence: Short koala bears larger frank\n",
      "word            singular        plural          comparative     superlative    \n",
      "---------------------------------------------------------------------------\n",
      "Short           Short           Shorts          Shortter        Shorttest      \n",
      "koala           koala           koalas          koalaer         koalaest       \n",
      "bears           bears           bearses         bearsser        bearssest      \n",
      "larger          larger          largers         largerer        largerest      \n",
      "frank           frank           franks          frankker        frankkest      \n"
     ]
    }
   ],
   "source": [
    "from nltk.stem import PorterStemmer\n",
    "from nltk.tokenize import word_tokenize\n",
    "from nltk.corpus import wordnet\n",
    "\n",
    "def generate_word_forms(root) :\n",
    "    # Singular and plural forms\n",
    "    singular = root\n",
    "    if root.endswith(\"s\") or root.endswith(\"x\") or root.endswith(\"z\") or root.endswith(\"ch\") or root.endswith(\"sh\") :\n",
    "        plural = root + \"es\"\n",
    "    elif root.endswith(\"y\") and len(root) > 1 and root[-2] not in \"aeiou\" :\n",
    "        plural = root[:-1] + \"ies\"\n",
    "    else :\n",
    "        plural = root + \"s\"\n",
    "\n",
    "    # Comparative and superlative forms\n",
    "    if root.endswith(\"e\") :\n",
    "        comparative = root + \"r\"\n",
    "        superlative = root + \"st\"\n",
    "    elif len(root) >= 2 and root[-1] not in \"aeiou\" and root[-2] not in \"aeiou\" :\n",
    "        comparative = root + root[-1] + \"er\"\n",
    "        superlative = root + root[-1] + \"est\"\n",
    "    else :\n",
    "        comparative = root + \"er\"\n",
    "        superlative = root + \"est\"\n",
    "\n",
    "    return {\n",
    "        \"singular\" : singular,\n",
    "        \"plural\" : plural,\n",
    "        \"comparative\" : comparative,\n",
    "        \"superlative\" : superlative\n",
    "    }\n",
    "\n",
    "input_text = input(\"Enter a sentence: \")\n",
    "tokens = word_tokenize(input_text)\n",
    "\n",
    "print(\"{:<15} {:<15} {:<15} {:<15} {:<15}\".format(\"word\", \"singular\", \"plural\", \"comparative\", \"superlative\"))\n",
    "print(\"-\"*75)\n",
    "\n",
    "for token in tokens :\n",
    "    word_forms = generate_word_forms(token)\n",
    "    print(\"{:<15} {:<15} {:<15} {:<15} {:<15}\".format(\n",
    "        token,\n",
    "        word_forms[\"singular\"],\n",
    "        word_forms[\"plural\"],\n",
    "        word_forms[\"comparative\"],\n",
    "        word_forms[\"superlative\"]\n",
    "    ))"
   ]
  }
 ],
 "metadata": {
  "kernelspec": {
   "display_name": "Python 3 (ipykernel)",
   "language": "python",
   "name": "python3"
  },
  "language_info": {
   "codemirror_mode": {
    "name": "ipython",
    "version": 3
   },
   "file_extension": ".py",
   "mimetype": "text/x-python",
   "name": "python",
   "nbconvert_exporter": "python",
   "pygments_lexer": "ipython3",
   "version": "3.9.13"
  }
 },
 "nbformat": 4,
 "nbformat_minor": 5
}
