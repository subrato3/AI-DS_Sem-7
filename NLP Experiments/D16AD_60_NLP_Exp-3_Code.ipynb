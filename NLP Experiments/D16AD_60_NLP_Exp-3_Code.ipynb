{
 "cells": [
  {
   "cell_type": "code",
   "execution_count": 1,
   "id": "d60e2b5d",
   "metadata": {},
   "outputs": [
    {
     "name": "stdout",
     "output_type": "stream",
     "text": [
      "Requirement already satisfied: nltk in c:\\users\\pronn\\anaconda3\\lib\\site-packages (3.7)\n",
      "Requirement already satisfied: click in c:\\users\\pronn\\anaconda3\\lib\\site-packages (from nltk) (8.0.4)\n",
      "Requirement already satisfied: tqdm in c:\\users\\pronn\\anaconda3\\lib\\site-packages (from nltk) (4.64.1)\n",
      "Requirement already satisfied: regex>=2021.8.3 in c:\\users\\pronn\\anaconda3\\lib\\site-packages (from nltk) (2022.7.9)\n",
      "Requirement already satisfied: joblib in c:\\users\\pronn\\anaconda3\\lib\\site-packages (from nltk) (1.1.0)\n",
      "Requirement already satisfied: colorama in c:\\users\\pronn\\anaconda3\\lib\\site-packages (from click->nltk) (0.4.5)\n"
     ]
    }
   ],
   "source": [
    "!pip install nltk"
   ]
  },
  {
   "cell_type": "code",
   "execution_count": 2,
   "id": "800a2594",
   "metadata": {},
   "outputs": [
    {
     "name": "stdout",
     "output_type": "stream",
     "text": [
      "['walking', 'swai', 'happili', 'seen', 'children']\n"
     ]
    }
   ],
   "source": [
    "import re\n",
    "\n",
    "def porter_stemmer(word) :\n",
    "    # Step 1a\n",
    "    if word.endswith('sses') :\n",
    "        word = re.sub('sses$', 'ss', word)\n",
    "    elif word.endswith('ies') :\n",
    "        word = re.sub('ies$', 'i', word)\n",
    "    elif word.endswith('ss') :\n",
    "        word = re.sub('ss$', 'ss', word)\n",
    "    else :\n",
    "        word = re.sub('s$', '', word)\n",
    "\n",
    "    # Step 1b\n",
    "    if re.search(r'[aeiouy].*ed$', word) :\n",
    "        word = re.sub('ed$', '', word)\n",
    "        if re.search(r'[aeiouy]', word) :\n",
    "            word = re.sub('ing$', '', word)\n",
    "\n",
    "    # Step 1c\n",
    "    if re.search(r'[aeiouy].*y$', word) :\n",
    "        word = re.sub('y$', 'i', word)\n",
    "\n",
    "    # Step 2\n",
    "    if re.search(r'[aeiouy].*(ational|tional|enci|anci|izer|bli|alli|entli|eli|ousli|ous|ization|ation|ator|alism|iveness|fulness|ousness|aliti|iviti|biliti)$', word) :\n",
    "        word = re.sub(r'(ational|tional|enci|anci|izer|bli|alli|entli|eli|ousli|ous|ization|ation|ator|alism|iveness|fulness|ousness|aliti|iviti|biliti)$', '', word)\n",
    "        if re.search(r'[aeiouy].*(ational|tional|enci|anci|izer|bli|alli|entli|eli|ousli|ous|ization|ation|ator|alism|iveness|fulness|ousness|aliti|iviti|biliti)$', word) :\n",
    "            word = re.sub(r'(ational|tional|enci|anci|izer|bli|alli|entli|eli|ousli|ous|ization|ation|ator|alism|iveness|fulness|ousness|aliti|iviti|biliti)$', '', word)\n",
    "\n",
    "    # Step 3\n",
    "    if re.search(r'[aeiouy].*(icate|ative|alize|iciti|ical|ful|ness)$', word) :\n",
    "        word = re.sub(r'(icate|ative|alize|iciti|ical|ful|ness)$', '', word)\n",
    "        if re.search(r'[aeiouy].*(icate|ative|alize|iciti|ical|ful|ness)$', word) :\n",
    "            word = re.sub(r'(icate|ative|alize|iciti|ical|ful|ness)$', '', word)\n",
    "\n",
    "    # Step 4\n",
    "    if re.search(r'[aeiouy].*(al|ance|ence|er|ic|able|ible|ant|ement|ment|ent|ou|ism|ate|iti|ous|ive|ize)$', word) :\n",
    "        word = re.sub(r'(al|ance|ence|er|ic|able|ible|ant|ement|ment|ent|ou|ism|ate|iti|ous|ive|ize)$', '', word)\n",
    "        if re.search(r'[aeiouy].*(al|ance|ence|er|ic|able|ible|ant|ement|ment|ent|ou|ism|ate|iti|ous|ive|ize)$', word) :\n",
    "            word = re.sub(r'(al|ance|ence|er|ic|able|ible|ant|ement|ment|ent|ou|ism|ate|iti|ous|ive|ize)$', '', word)\n",
    "\n",
    "    # Step 5a\n",
    "    if re.search(r'e$', word) :\n",
    "        word = re.sub('e$', '', word)\n",
    "        if re.search(r'[aeiouy].*e$', word) :\n",
    "            word = re.sub('e$', '', word)\n",
    "\n",
    "    # Step 5b\n",
    "    if re.search(r'[aeiouy].*ll$', word) :\n",
    "        word = re.sub('ll$', 'l', word)\n",
    "\n",
    "    return word\n",
    "\n",
    "words_to_stem = [\"walking\", \"swayed\", \"happily\", \"seen\", \"children\"]\n",
    "stemmed_words = [porter_stemmer(word) for word in words_to_stem]\n",
    "print(stemmed_words)"
   ]
  },
  {
   "cell_type": "code",
   "execution_count": 3,
   "id": "f88838fe",
   "metadata": {},
   "outputs": [
    {
     "name": "stderr",
     "output_type": "stream",
     "text": [
      "C:\\Users\\pronn\\anaconda3\\lib\\site-packages\\scipy\\__init__.py:155: UserWarning: A NumPy version >=1.18.5 and <1.25.0 is required for this version of SciPy (detected version 1.26.0\n",
      "  warnings.warn(f\"A NumPy version >={np_minversion} and <{np_maxversion}\"\n"
     ]
    },
    {
     "name": "stdout",
     "output_type": "stream",
     "text": [
      "['walk', 'sway', 'happili', 'seen', 'children']\n"
     ]
    }
   ],
   "source": [
    "from nltk.stem import PorterStemmer\n",
    "\n",
    "nltk_stemmer = PorterStemmer()\n",
    "\n",
    "nltk_stemmed_words = [nltk_stemmer.stem(word) for word in words_to_stem]\n",
    "print(nltk_stemmed_words)"
   ]
  }
 ],
 "metadata": {
  "kernelspec": {
   "display_name": "Python 3 (ipykernel)",
   "language": "python",
   "name": "python3"
  },
  "language_info": {
   "codemirror_mode": {
    "name": "ipython",
    "version": 3
   },
   "file_extension": ".py",
   "mimetype": "text/x-python",
   "name": "python",
   "nbconvert_exporter": "python",
   "pygments_lexer": "ipython3",
   "version": "3.9.13"
  }
 },
 "nbformat": 4,
 "nbformat_minor": 5
}
