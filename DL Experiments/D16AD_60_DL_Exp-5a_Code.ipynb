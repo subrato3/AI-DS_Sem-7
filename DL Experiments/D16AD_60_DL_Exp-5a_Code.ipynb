{
 "cells": [
  {
   "cell_type": "code",
   "execution_count": 1,
   "id": "4a4457cd",
   "metadata": {},
   "outputs": [
    {
     "name": "stderr",
     "output_type": "stream",
     "text": [
      "C:\\Users\\pronn\\anaconda3\\lib\\site-packages\\scipy\\__init__.py:155: UserWarning: A NumPy version >=1.18.5 and <1.25.0 is required for this version of SciPy (detected version 1.26.0\n",
      "  warnings.warn(f\"A NumPy version >={np_minversion} and <{np_maxversion}\"\n"
     ]
    },
    {
     "name": "stdout",
     "output_type": "stream",
     "text": [
      "Downloading data from https://storage.googleapis.com/tensorflow/tf-keras-datasets/imdb.npz\n",
      "17464789/17464789 [==============================] - 3s 0us/step\n",
      "Epoch 1/5\n",
      "313/313 [==============================] - 28s 77ms/step - loss: 0.4685 - accuracy: 0.7640 - val_loss: 0.3701 - val_accuracy: 0.8356\n",
      "Epoch 2/5\n",
      "313/313 [==============================] - 24s 75ms/step - loss: 0.2715 - accuracy: 0.8912 - val_loss: 0.3595 - val_accuracy: 0.8450\n",
      "Epoch 3/5\n",
      "313/313 [==============================] - 24s 78ms/step - loss: 0.2121 - accuracy: 0.9196 - val_loss: 0.3762 - val_accuracy: 0.8368\n",
      "Epoch 4/5\n",
      "313/313 [==============================] - 24s 77ms/step - loss: 0.1702 - accuracy: 0.9371 - val_loss: 0.4206 - val_accuracy: 0.8308\n",
      "Epoch 5/5\n",
      "313/313 [==============================] - 24s 76ms/step - loss: 0.1339 - accuracy: 0.9547 - val_loss: 0.4639 - val_accuracy: 0.8328\n",
      "782/782 [==============================] - 13s 17ms/step - loss: 0.4758 - accuracy: 0.8298\n",
      "Test loss: 0.4758, Test accuracy: 0.8298\n"
     ]
    }
   ],
   "source": [
    "import numpy as np\n",
    "import tensorflow as tf\n",
    "from tensorflow.keras.datasets import imdb\n",
    "from tensorflow.keras.preprocessing.sequence import pad_sequences \n",
    "from tensorflow.keras.models import Sequential\n",
    "from tensorflow.keras.layers import Embedding, GRU, Dense\n",
    "\n",
    "np.random.seed(0) \n",
    "tf.random.set_seed(0)\n",
    "\n",
    "num_words = 10000 # Only consider the top 10,000 most common words \n",
    "max_sequence_length = 100 # Limit the sequence length to 100 words\n",
    "\n",
    "(x_train, y_train), (x_test, y_test) = imdb.load_data(num_words=num_words) \n",
    "x_train = pad_sequences(x_train, maxlen=max_sequence_length)\n",
    "x_test = pad_sequences(x_test, maxlen=max_sequence_length) \n",
    "\n",
    "model = Sequential()\n",
    "model.add(Embedding(input_dim=num_words, output_dim=32, input_length=max_sequence_length))\n",
    "model.add(GRU(units=32)) \n",
    "model.add(Dense(units=1, activation='sigmoid'))\n",
    " \n",
    "model.compile(optimizer='adam', loss='binary_crossentropy', metrics=['accuracy'])\n",
    "\n",
    "batch_size = 64\n",
    "epochs = 5\n",
    "model.fit(x_train, y_train, batch_size=batch_size, epochs=epochs, validation_split=0.2)\n",
    "loss, accuracy = model.evaluate(x_test, y_test)\n",
    "print(f\"Test loss: {loss:.4f}, Test accuracy: {accuracy:.4f}\")"
   ]
  }
 ],
 "metadata": {
  "kernelspec": {
   "display_name": "Python 3 (ipykernel)",
   "language": "python",
   "name": "python3"
  },
  "language_info": {
   "codemirror_mode": {
    "name": "ipython",
    "version": 3
   },
   "file_extension": ".py",
   "mimetype": "text/x-python",
   "name": "python",
   "nbconvert_exporter": "python",
   "pygments_lexer": "ipython3",
   "version": "3.9.13"
  }
 },
 "nbformat": 4,
 "nbformat_minor": 5
}
